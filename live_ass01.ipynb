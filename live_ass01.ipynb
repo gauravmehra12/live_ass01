{
 "cells": [
  {
   "cell_type": "markdown",
   "id": "4a937eb4",
   "metadata": {},
   "source": [
    "Q1. Find out all the types of error that we have encountered in our lecture and why? Also include the examples."
   ]
  },
  {
   "cell_type": "code",
   "execution_count": 37,
   "id": "f6de7b08",
   "metadata": {},
   "outputs": [
    {
     "ename": "NameError",
     "evalue": "name 'Print' is not defined",
     "output_type": "error",
     "traceback": [
      "\u001b[1;31m---------------------------------------------------------------------------\u001b[0m",
      "\u001b[1;31mNameError\u001b[0m                                 Traceback (most recent call last)",
      "Input \u001b[1;32mIn [37]\u001b[0m, in \u001b[0;36m<cell line: 3>\u001b[1;34m()\u001b[0m\n\u001b[0;32m      1\u001b[0m \u001b[38;5;66;03m#1 Error: NameError: name 'Print' is not defined \u001b[39;00m\n\u001b[0;32m      2\u001b[0m \u001b[38;5;66;03m#which means python is case sensitive for keywords\u001b[39;00m\n\u001b[1;32m----> 3\u001b[0m \u001b[43mPrint\u001b[49m(\u001b[38;5;124m\"\u001b[39m\u001b[38;5;124mGood Evening\u001b[39m\u001b[38;5;124m\"\u001b[39m)\n",
      "\u001b[1;31mNameError\u001b[0m: name 'Print' is not defined"
     ]
    }
   ],
   "source": [
    "#1 Error: NameError: name 'Print' is not defined \n",
    "#which means python is case sensitive for keywords\n",
    "Print(\"Good Evening\")"
   ]
  },
  {
   "cell_type": "code",
   "execution_count": 3,
   "id": "530a6d75",
   "metadata": {},
   "outputs": [
    {
     "ename": "SyntaxError",
     "evalue": "Missing parentheses in call to 'print'. Did you mean print(\"Good Evening\")? (4121108467.py, line 2)",
     "output_type": "error",
     "traceback": [
      "\u001b[1;36m  Input \u001b[1;32mIn [3]\u001b[1;36m\u001b[0m\n\u001b[1;33m    print \"Good Evening\"\u001b[0m\n\u001b[1;37m          ^\u001b[0m\n\u001b[1;31mSyntaxError\u001b[0m\u001b[1;31m:\u001b[0m Missing parentheses in call to 'print'. Did you mean print(\"Good Evening\")?\n"
     ]
    }
   ],
   "source": [
    "#2 Error: SyntaxError: Missing parentheses in call to 'print'. Did you mean print(\"Good Evening\")?\n",
    "print \"Good Evening\""
   ]
  },
  {
   "cell_type": "code",
   "execution_count": 4,
   "id": "ea9cae51",
   "metadata": {},
   "outputs": [
    {
     "ename": "SyntaxError",
     "evalue": "EOL while scanning string literal (77177917.py, line 2)",
     "output_type": "error",
     "traceback": [
      "\u001b[1;36m  Input \u001b[1;32mIn [4]\u001b[1;36m\u001b[0m\n\u001b[1;33m    print(\"Good\u001b[0m\n\u001b[1;37m                ^\u001b[0m\n\u001b[1;31mSyntaxError\u001b[0m\u001b[1;31m:\u001b[0m EOL while scanning string literal\n"
     ]
    }
   ],
   "source": [
    "#3 Error: SyntaxError: EOL while scanning string literal\n",
    "print(\"Good \n",
    "Evening\")"
   ]
  },
  {
   "cell_type": "code",
   "execution_count": 5,
   "id": "b2ba3927",
   "metadata": {},
   "outputs": [
    {
     "ename": "SyntaxError",
     "evalue": "invalid syntax (3138761342.py, line 2)",
     "output_type": "error",
     "traceback": [
      "\u001b[1;36m  Input \u001b[1;32mIn [5]\u001b[1;36m\u001b[0m\n\u001b[1;33m    print(\"Hi my name is \"Sunny\" \")\u001b[0m\n\u001b[1;37m                          ^\u001b[0m\n\u001b[1;31mSyntaxError\u001b[0m\u001b[1;31m:\u001b[0m invalid syntax\n"
     ]
    }
   ],
   "source": [
    "#4 Error: SyntaxError: invalid syntax\n",
    "print(\"Hi my name is \"Sunny\" \")"
   ]
  },
  {
   "cell_type": "code",
   "execution_count": 6,
   "id": "4c6d7b68",
   "metadata": {},
   "outputs": [
    {
     "ename": "SyntaxError",
     "evalue": "invalid syntax (3303173551.py, line 3)",
     "output_type": "error",
     "traceback": [
      "\u001b[1;36m  Input \u001b[1;32mIn [6]\u001b[1;36m\u001b[0m\n\u001b[1;33m    ten* = 10\u001b[0m\n\u001b[1;37m         ^\u001b[0m\n\u001b[1;31mSyntaxError\u001b[0m\u001b[1;31m:\u001b[0m invalid syntax\n"
     ]
    }
   ],
   "source": [
    "#5 Error: SyntaxError: invalid syntax\n",
    "#Variable names should not contain any special characters like ^ % $ ! @ # ^ & * ( )\n",
    "ten* = 10"
   ]
  },
  {
   "cell_type": "code",
   "execution_count": 8,
   "id": "b92c1d02",
   "metadata": {},
   "outputs": [
    {
     "ename": "SyntaxError",
     "evalue": "cannot assign to operator (2475012721.py, line 3)",
     "output_type": "error",
     "traceback": [
      "\u001b[1;36m  Input \u001b[1;32mIn [8]\u001b[1;36m\u001b[0m\n\u001b[1;33m    ten%number = 10\u001b[0m\n\u001b[1;37m    ^\u001b[0m\n\u001b[1;31mSyntaxError\u001b[0m\u001b[1;31m:\u001b[0m cannot assign to operator\n"
     ]
    }
   ],
   "source": [
    "#6 Error: SyntaxError: cannot assign to operator \n",
    "# as above special character % can be used in variable  \n",
    "ten%number = 10"
   ]
  },
  {
   "cell_type": "code",
   "execution_count": 10,
   "id": "faba52c0",
   "metadata": {},
   "outputs": [
    {
     "ename": "SyntaxError",
     "evalue": "invalid syntax (2371528886.py, line 3)",
     "output_type": "error",
     "traceback": [
      "\u001b[1;36m  Input \u001b[1;32mIn [10]\u001b[1;36m\u001b[0m\n\u001b[1;33m    10ten = 10\u001b[0m\n\u001b[1;37m      ^\u001b[0m\n\u001b[1;31mSyntaxError\u001b[0m\u001b[1;31m:\u001b[0m invalid syntax\n"
     ]
    }
   ],
   "source": [
    "#7 Error: SyntaxError: invalid syntax\n",
    "#Variable names can contain numbers but you can't start with numbers\n",
    "10ten = 10"
   ]
  },
  {
   "cell_type": "code",
   "execution_count": 15,
   "id": "46c49baa",
   "metadata": {},
   "outputs": [
    {
     "ename": "SyntaxError",
     "evalue": "invalid syntax (161367238.py, line 3)",
     "output_type": "error",
     "traceback": [
      "\u001b[1;36m  Input \u001b[1;32mIn [15]\u001b[1;36m\u001b[0m\n\u001b[1;33m    ten number = 10\u001b[0m\n\u001b[1;37m        ^\u001b[0m\n\u001b[1;31mSyntaxError\u001b[0m\u001b[1;31m:\u001b[0m invalid syntax\n"
     ]
    }
   ],
   "source": [
    "#8 Error: SyntaxError: invalid syntax\n",
    "# space cannot be used while assigning a variable or in variable name\n",
    "ten number = 10"
   ]
  },
  {
   "cell_type": "code",
   "execution_count": 14,
   "id": "eb7985c4",
   "metadata": {},
   "outputs": [
    {
     "ename": "TypeError",
     "evalue": "can only concatenate str (not \"int\") to str",
     "output_type": "error",
     "traceback": [
      "\u001b[1;31m---------------------------------------------------------------------------\u001b[0m",
      "\u001b[1;31mTypeError\u001b[0m                                 Traceback (most recent call last)",
      "Input \u001b[1;32mIn [14]\u001b[0m, in \u001b[0;36m<cell line: 3>\u001b[1;34m()\u001b[0m\n\u001b[0;32m      1\u001b[0m \u001b[38;5;66;03m#9 Error: TypeError: can only concatenate str (not \"int\") to str\u001b[39;00m\n\u001b[0;32m      2\u001b[0m \u001b[38;5;66;03m# In python we can not concatenate int and string in simple language we can not add string and integer\u001b[39;00m\n\u001b[1;32m----> 3\u001b[0m \u001b[38;5;124;43m\"\u001b[39;49m\u001b[38;5;124;43mDay \u001b[39;49m\u001b[38;5;124;43m\"\u001b[39;49m\u001b[43m \u001b[49m\u001b[38;5;241;43m+\u001b[39;49m\u001b[43m \u001b[49m\u001b[38;5;241;43m1\u001b[39;49m\n",
      "\u001b[1;31mTypeError\u001b[0m: can only concatenate str (not \"int\") to str"
     ]
    }
   ],
   "source": [
    "#9 Error: TypeError: can only concatenate str (not \"int\") to str\n",
    "# In python we can not concatenate int and string in simple language we can not add string and integer\n",
    "\"Day \" + 1"
   ]
  },
  {
   "cell_type": "code",
   "execution_count": 17,
   "id": "2022099f",
   "metadata": {},
   "outputs": [
    {
     "ename": "NameError",
     "evalue": "name 'Ten' is not defined",
     "output_type": "error",
     "traceback": [
      "\u001b[1;31m---------------------------------------------------------------------------\u001b[0m",
      "\u001b[1;31mNameError\u001b[0m                                 Traceback (most recent call last)",
      "Input \u001b[1;32mIn [17]\u001b[0m, in \u001b[0;36m<cell line: 4>\u001b[1;34m()\u001b[0m\n\u001b[0;32m      1\u001b[0m \u001b[38;5;66;03m#10 Error: NameError: name 'Ten' is not defined\u001b[39;00m\n\u001b[0;32m      2\u001b[0m \u001b[38;5;66;03m# As python is case sensitive and ten is not as same as Ten (as a variable)\u001b[39;00m\n\u001b[0;32m      3\u001b[0m ten\u001b[38;5;241m=\u001b[39m\u001b[38;5;241m10\u001b[39m\n\u001b[1;32m----> 4\u001b[0m \u001b[38;5;28mprint\u001b[39m(\u001b[43mTen\u001b[49m)\n",
      "\u001b[1;31mNameError\u001b[0m: name 'Ten' is not defined"
     ]
    }
   ],
   "source": [
    "#10 Error: NameError: name 'Ten' is not defined\n",
    "# As python is case sensitive and ten is not as same as Ten (as a variable)\n",
    "ten=10\n",
    "print(Ten)"
   ]
  },
  {
   "cell_type": "code",
   "execution_count": 18,
   "id": "98522f8c",
   "metadata": {},
   "outputs": [],
   "source": [
    "print = \"hi\""
   ]
  },
  {
   "cell_type": "code",
   "execution_count": 20,
   "id": "804ab110",
   "metadata": {},
   "outputs": [
    {
     "ename": "TypeError",
     "evalue": "'str' object is not callable",
     "output_type": "error",
     "traceback": [
      "\u001b[1;31m---------------------------------------------------------------------------\u001b[0m",
      "\u001b[1;31mTypeError\u001b[0m                                 Traceback (most recent call last)",
      "Input \u001b[1;32mIn [20]\u001b[0m, in \u001b[0;36m<cell line: 3>\u001b[1;34m()\u001b[0m\n\u001b[0;32m      1\u001b[0m \u001b[38;5;66;03m#11 Error: TypeError: 'str' object is not callable\u001b[39;00m\n\u001b[0;32m      2\u001b[0m \u001b[38;5;66;03m# As we have defined print as variable name so reserved keyword print is str which is not callable in pthon\u001b[39;00m\n\u001b[1;32m----> 3\u001b[0m \u001b[38;5;28;43mprint\u001b[39;49m\u001b[43m(\u001b[49m\u001b[38;5;124;43m\"\u001b[39;49m\u001b[38;5;124;43mhi\u001b[39;49m\u001b[38;5;124;43m\"\u001b[39;49m\u001b[43m)\u001b[49m\n",
      "\u001b[1;31mTypeError\u001b[0m: 'str' object is not callable"
     ]
    }
   ],
   "source": [
    "#11 Error: TypeError: 'str' object is not callable\n",
    "# As we have defined print as variable name so reserved keyword print is str which is not callable in pthon\n",
    "print(\"hi\")"
   ]
  },
  {
   "cell_type": "code",
   "execution_count": 21,
   "id": "754ba434",
   "metadata": {},
   "outputs": [],
   "source": [
    "del print # delete the variable print\n",
    "          # this del statement is compulsory in order to use print as keyword"
   ]
  },
  {
   "cell_type": "code",
   "execution_count": 22,
   "id": "eaa37cb2",
   "metadata": {},
   "outputs": [
    {
     "name": "stdout",
     "output_type": "stream",
     "text": [
      "hi\n"
     ]
    }
   ],
   "source": [
    "print(\"hi\")"
   ]
  },
  {
   "cell_type": "code",
   "execution_count": 24,
   "id": "6e4300ee",
   "metadata": {},
   "outputs": [
    {
     "name": "stdout",
     "output_type": "stream",
     "text": [
      "Enter value of A: 10.2\n",
      "Enter value of B: 10.2\n"
     ]
    },
    {
     "ename": "ValueError",
     "evalue": "invalid literal for int() with base 10: '10.2'",
     "output_type": "error",
     "traceback": [
      "\u001b[1;31m---------------------------------------------------------------------------\u001b[0m",
      "\u001b[1;31mValueError\u001b[0m                                Traceback (most recent call last)",
      "Input \u001b[1;32mIn [24]\u001b[0m, in \u001b[0;36m<cell line: 4>\u001b[1;34m()\u001b[0m\n\u001b[0;32m      1\u001b[0m \u001b[38;5;66;03m#12 Error: ValueError: invalid literal for int() with base 10: '10.2'\u001b[39;00m\n\u001b[0;32m      2\u001b[0m \u001b[38;5;66;03m# As we have assigned value of B as float data type\u001b[39;00m\n\u001b[0;32m      3\u001b[0m A \u001b[38;5;241m=\u001b[39m \u001b[38;5;28mfloat\u001b[39m(\u001b[38;5;28minput\u001b[39m(\u001b[38;5;124m\"\u001b[39m\u001b[38;5;124mEnter value of A: \u001b[39m\u001b[38;5;124m\"\u001b[39m))\n\u001b[1;32m----> 4\u001b[0m B \u001b[38;5;241m=\u001b[39m \u001b[38;5;28;43mint\u001b[39;49m\u001b[43m(\u001b[49m\u001b[38;5;28;43minput\u001b[39;49m\u001b[43m(\u001b[49m\u001b[38;5;124;43m\"\u001b[39;49m\u001b[38;5;124;43mEnter value of B: \u001b[39;49m\u001b[38;5;124;43m\"\u001b[39;49m\u001b[43m)\u001b[49m\u001b[43m)\u001b[49m \u001b[38;5;66;03m# 10.2 is float but converting to int\u001b[39;00m\n\u001b[0;32m      6\u001b[0m \u001b[38;5;28mprint\u001b[39m(\u001b[38;5;124mf\u001b[39m\u001b[38;5;124m\"\u001b[39m\u001b[38;5;124mSum of A and B is: \u001b[39m\u001b[38;5;132;01m{\u001b[39;00mA\u001b[38;5;241m+\u001b[39mB\u001b[38;5;132;01m}\u001b[39;00m\u001b[38;5;124m\"\u001b[39m)\n",
      "\u001b[1;31mValueError\u001b[0m: invalid literal for int() with base 10: '10.2'"
     ]
    }
   ],
   "source": [
    "#12 Error: ValueError: invalid literal for int() with base 10: '10.2'\n",
    "# As we have assigned value of B as float data type\n",
    "A = float(input(\"Enter value of A: \"))\n",
    "B = int(input(\"Enter value of B: \")) # 10.2 is float but converting to int\n",
    "\n",
    "print(f\"Sum of A and B is: {A+B}\")"
   ]
  },
  {
   "cell_type": "code",
   "execution_count": 26,
   "id": "f9d8c72e",
   "metadata": {},
   "outputs": [
    {
     "name": "stdout",
     "output_type": "stream",
     "text": [
      "data type before: <class 'str'>, value of A: 50.22\n"
     ]
    },
    {
     "ename": "ValueError",
     "evalue": "invalid literal for int() with base 10: '50.22'",
     "output_type": "error",
     "traceback": [
      "\u001b[1;31m---------------------------------------------------------------------------\u001b[0m",
      "\u001b[1;31mValueError\u001b[0m                                Traceback (most recent call last)",
      "Input \u001b[1;32mIn [26]\u001b[0m, in \u001b[0;36m<cell line: 5>\u001b[1;34m()\u001b[0m\n\u001b[0;32m      3\u001b[0m A \u001b[38;5;241m=\u001b[39m \u001b[38;5;124m\"\u001b[39m\u001b[38;5;124m50.22\u001b[39m\u001b[38;5;124m\"\u001b[39m                                               \u001b[38;5;66;03m# entering string\u001b[39;00m\n\u001b[0;32m      4\u001b[0m \u001b[38;5;28mprint\u001b[39m(\u001b[38;5;124mf\u001b[39m\u001b[38;5;124m\"\u001b[39m\u001b[38;5;124mdata type before: \u001b[39m\u001b[38;5;132;01m{\u001b[39;00m\u001b[38;5;28mtype\u001b[39m(A)\u001b[38;5;132;01m}\u001b[39;00m\u001b[38;5;124m, value of A: \u001b[39m\u001b[38;5;132;01m{\u001b[39;00mA\u001b[38;5;132;01m}\u001b[39;00m\u001b[38;5;124m\"\u001b[39m)\n\u001b[1;32m----> 5\u001b[0m A \u001b[38;5;241m=\u001b[39m \u001b[38;5;28;43mint\u001b[39;49m\u001b[43m(\u001b[49m\u001b[43mA\u001b[49m\u001b[43m)\u001b[49m                                                \u001b[38;5;66;03m# trying to convert into integer\u001b[39;00m\n\u001b[0;32m      6\u001b[0m \u001b[38;5;28mprint\u001b[39m(\u001b[38;5;124mf\u001b[39m\u001b[38;5;124m\"\u001b[39m\u001b[38;5;124mdata type after: \u001b[39m\u001b[38;5;132;01m{\u001b[39;00m\u001b[38;5;28mtype\u001b[39m(A)\u001b[38;5;132;01m}\u001b[39;00m\u001b[38;5;124m, value of A: \u001b[39m\u001b[38;5;132;01m{\u001b[39;00mA\u001b[38;5;132;01m}\u001b[39;00m\u001b[38;5;124m\"\u001b[39m)\n",
      "\u001b[1;31mValueError\u001b[0m: invalid literal for int() with base 10: '50.22'"
     ]
    }
   ],
   "source": [
    "#13 Error: ValueError: invalid literal for int() with base 10: '50.2\n",
    "# String to integer\n",
    "A = \"50.22\"                                               # entering string\n",
    "print(f\"data type before: {type(A)}, value of A: {A}\")\n",
    "A = int(A)                                                # trying to convert into integer\n",
    "print(f\"data type after: {type(A)}, value of A: {A}\") "
   ]
  },
  {
   "cell_type": "code",
   "execution_count": 28,
   "id": "c6e9dc4f",
   "metadata": {},
   "outputs": [
    {
     "name": "stdout",
     "output_type": "stream",
     "text": [
      "data type before: <class 'str'>, value of A: \n"
     ]
    },
    {
     "ename": "ValueError",
     "evalue": "invalid literal for int() with base 10: ''",
     "output_type": "error",
     "traceback": [
      "\u001b[1;31m---------------------------------------------------------------------------\u001b[0m",
      "\u001b[1;31mValueError\u001b[0m                                Traceback (most recent call last)",
      "Input \u001b[1;32mIn [28]\u001b[0m, in \u001b[0;36m<cell line: 5>\u001b[1;34m()\u001b[0m\n\u001b[0;32m      3\u001b[0m A \u001b[38;5;241m=\u001b[39m \u001b[38;5;124m\"\u001b[39m\u001b[38;5;124m\"\u001b[39m\n\u001b[0;32m      4\u001b[0m \u001b[38;5;28mprint\u001b[39m(\u001b[38;5;124mf\u001b[39m\u001b[38;5;124m\"\u001b[39m\u001b[38;5;124mdata type before: \u001b[39m\u001b[38;5;132;01m{\u001b[39;00m\u001b[38;5;28mtype\u001b[39m(A)\u001b[38;5;132;01m}\u001b[39;00m\u001b[38;5;124m, value of A: \u001b[39m\u001b[38;5;132;01m{\u001b[39;00mA\u001b[38;5;132;01m}\u001b[39;00m\u001b[38;5;124m\"\u001b[39m)\n\u001b[1;32m----> 5\u001b[0m A \u001b[38;5;241m=\u001b[39m \u001b[38;5;28;43mint\u001b[39;49m\u001b[43m(\u001b[49m\u001b[43mA\u001b[49m\u001b[43m)\u001b[49m\n\u001b[0;32m      6\u001b[0m \u001b[38;5;28mprint\u001b[39m(\u001b[38;5;124mf\u001b[39m\u001b[38;5;124m\"\u001b[39m\u001b[38;5;124mdata type after: \u001b[39m\u001b[38;5;132;01m{\u001b[39;00m\u001b[38;5;28mtype\u001b[39m(A)\u001b[38;5;132;01m}\u001b[39;00m\u001b[38;5;124m, value of A: \u001b[39m\u001b[38;5;132;01m{\u001b[39;00mA\u001b[38;5;132;01m}\u001b[39;00m\u001b[38;5;124m\"\u001b[39m)\n",
      "\u001b[1;31mValueError\u001b[0m: invalid literal for int() with base 10: ''"
     ]
    }
   ],
   "source": [
    "#14 Error: ValueError: invalid literal for int() with base 10: ''\n",
    "# empty string to int\n",
    "A = \"\"\n",
    "print(f\"data type before: {type(A)}, value of A: {A}\")\n",
    "A = int(A)\n",
    "print(f\"data type after: {type(A)}, value of A: {A}\")"
   ]
  },
  {
   "cell_type": "markdown",
   "id": "ccb84881",
   "metadata": {},
   "source": [
    "Q2. Take input A and B and print their sum, mul, div, square of the numbers"
   ]
  },
  {
   "cell_type": "code",
   "execution_count": 29,
   "id": "b0951e16",
   "metadata": {},
   "outputs": [
    {
     "name": "stdout",
     "output_type": "stream",
     "text": [
      "Enter a integer A : 5\n",
      "Enter a integer B : 3\n",
      "Sum of A and B: 8\n",
      "Product of A and B:15\n",
      "Division of A/B:1.6666666666666667\n",
      "Sqaure of A:25\n",
      "Sqaure of B:9\n"
     ]
    }
   ],
   "source": [
    "A = int(input(\"Enter a integer A : \"))\n",
    "B = int(input(\"Enter a integer B : \"))\n",
    "print(f\"\"\"Sum of A and B: {A+B}\n",
    "Product of A and B:{A*B}\n",
    "Division of A/B:{A/B}\n",
    "Sqaure of A:{A**2}\n",
    "Sqaure of B:{B**2}\"\"\")"
   ]
  },
  {
   "cell_type": "markdown",
   "id": "62182f6c",
   "metadata": {},
   "source": [
    "Q3. How many reserve keywords are there in python and why we should not use them as a variable name"
   ]
  },
  {
   "cell_type": "raw",
   "id": "54c5d613",
   "metadata": {},
   "source": [
    "Ans. False\tdef\t     if \t    raise\n",
    "     None   del\t     import\t    return\n",
    "     True\telif     in\t        try\n",
    "     and\telse     is\t        while\n",
    "     as\t    except\t lambda\t    with\n",
    "     assert\tfinally\t nonlocal   yield\n",
    "     break\tfor\t     not\n",
    "     class\tform\t or\n",
    "     global\tpass     continue\n",
    "  \n",
    "  There are total 33 reserved keywords in python"
   ]
  },
  {
   "cell_type": "markdown",
   "id": "19aa2ec7",
   "metadata": {},
   "source": [
    "Q4. Create email ids with the user inputs. in the following format - lastname.firstname@gmail.com"
   ]
  },
  {
   "cell_type": "code",
   "execution_count": 30,
   "id": "e85c0323",
   "metadata": {},
   "outputs": [
    {
     "name": "stdout",
     "output_type": "stream",
     "text": [
      "Enter your first name : Gaurav\n",
      "Enter your last name : mehra\n",
      "Your email Id is: mehra.gaurav@gmail.com\n"
     ]
    }
   ],
   "source": [
    "firstn = input(\"Enter your first name : \")\n",
    "lastn = input(\"Enter your last name : \")\n",
    "a = firstn.lower()\n",
    "b = lastn.lower()\n",
    "print(f\"Your email Id is: {b}.{a}@gmail.com\")"
   ]
  },
  {
   "cell_type": "raw",
   "id": "e00aeece",
   "metadata": {},
   "source": [
    "Q5. Try to print the following lines -\n",
    "Hi I'm Sunny\n",
    "My address is 22\\3\n",
    "I earn 20$ daily."
   ]
  },
  {
   "cell_type": "code",
   "execution_count": 32,
   "id": "c580de59",
   "metadata": {},
   "outputs": [
    {
     "name": "stdout",
     "output_type": "stream",
     "text": [
      "Hi I'm Sunny\n",
      "My address is 22\u0003\n",
      "I earn 20$ daily.\n"
     ]
    }
   ],
   "source": [
    "print(\"\"\"Hi I'm Sunny\n",
    "My address is 22\\3\n",
    "I earn 20$ daily.\"\"\")"
   ]
  },
  {
   "cell_type": "raw",
   "id": "c87688f9",
   "metadata": {},
   "source": [
    "Q6. Take user input (name, address, date of birth etc) to fill a form for your college and print their email IDs"
   ]
  },
  {
   "cell_type": "code",
   "execution_count": 33,
   "id": "e7e3c1ee",
   "metadata": {},
   "outputs": [
    {
     "name": "stdout",
     "output_type": "stream",
     "text": [
      "Enter your first name: Gaurav\n",
      "Enter your last name: Mehra\n",
      "Enter your Address: Nainital\n",
      "Enter your DOB's date: 25\n",
      "Enter your DOB's month: 05\n",
      "Enter your DOB's year: 2000\n",
      "Name: Gaurav Mehra\n",
      "Address: Nainital\n",
      "DOB: 25|5|2000\n",
      "Email Id: gaurav.mehra@gmail.com\n"
     ]
    }
   ],
   "source": [
    "fname = input(\"Enter your first name: \")\n",
    "lname = input('Enter your last name: ')\n",
    "address = input('Enter your Address: ')\n",
    "date = int(input(\"Enter your DOB's date: \"))\n",
    "month = int(input(\"Enter your DOB's month: \"))\n",
    "year = int(input(\"Enter your DOB's year: \"))\n",
    "f=fname.lower()\n",
    "l=lname.lower()\n",
    "print(f\"\"\"Name: {fname} {lname}\n",
    "Address: {address}\n",
    "DOB: {date}|{month}|{year}\n",
    "Email Id: {f}.{l}@gmail.com\"\"\")"
   ]
  },
  {
   "cell_type": "raw",
   "id": "7ea6c66c",
   "metadata": {},
   "source": [
    "Q7. Convert the following -\n",
    "\"22.4\" into integer\n",
    "\"22\" into complex no."
   ]
  },
  {
   "cell_type": "code",
   "execution_count": 34,
   "id": "21d5fdda",
   "metadata": {},
   "outputs": [
    {
     "name": "stdout",
     "output_type": "stream",
     "text": [
      "type of s = 22.4 is <class 'str'> \n",
      "type of (after type casting or coversion) s = 22 is <class 'int'> \n"
     ]
    }
   ],
   "source": [
    "#1 \"22.4\" into integer\n",
    "s=\"22.4\"\n",
    "print(f\"type of s = {s} is {type(s)} \")\n",
    "s=float(s)\n",
    "s=int(s)\n",
    "print(f\"type of (after type casting or coversion) s = {s} is {type(s)} \")"
   ]
  },
  {
   "cell_type": "code",
   "execution_count": 36,
   "id": "9ea67f1a",
   "metadata": {},
   "outputs": [
    {
     "name": "stdout",
     "output_type": "stream",
     "text": [
      "type of s1 = 22 is <class 'str'> \n",
      "type of (after type casting or coversion) s1 = (22+0j) is <class 'complex'> \n"
     ]
    }
   ],
   "source": [
    "#2 \"22\" into complex\n",
    "s1=\"22\"\n",
    "print(f\"type of s1 = {s1} is {type(s1)} \")\n",
    "s1=int(s1)\n",
    "s1=complex(s1)\n",
    "print(f\"type of (after type casting or coversion) s1 = {s1} is {type(s1)} \")"
   ]
  },
  {
   "cell_type": "code",
   "execution_count": null,
   "id": "f9fd96c3",
   "metadata": {},
   "outputs": [],
   "source": []
  }
 ],
 "metadata": {
  "kernelspec": {
   "display_name": "Python 3 (ipykernel)",
   "language": "python",
   "name": "python3"
  },
  "language_info": {
   "codemirror_mode": {
    "name": "ipython",
    "version": 3
   },
   "file_extension": ".py",
   "mimetype": "text/x-python",
   "name": "python",
   "nbconvert_exporter": "python",
   "pygments_lexer": "ipython3",
   "version": "3.9.12"
  }
 },
 "nbformat": 4,
 "nbformat_minor": 5
}
